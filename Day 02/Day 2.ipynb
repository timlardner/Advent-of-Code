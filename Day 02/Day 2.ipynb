{
 "cells": [
  {
   "cell_type": "code",
   "execution_count": 3,
   "metadata": {},
   "outputs": [],
   "source": [
    "input_data = \"\"\"798\t1976\t1866\t1862\t559\t1797\t1129\t747\t85\t1108\t104\t2000\t248\t131\t87\t95\n",
    "201\t419\t336\t65\t208\t57\t74\t433\t68\t360\t390\t412\t355\t209\t330\t135\n",
    "967\t84\t492\t1425\t1502\t1324\t1268\t1113\t1259\t81\t310\t1360\t773\t69\t68\t290\n",
    "169\t264\t107\t298\t38\t149\t56\t126\t276\t45\t305\t403\t89\t179\t394\t172\n",
    "3069\t387\t2914\t2748\t1294\t1143\t3099\t152\t2867\t3082\t113\t145\t2827\t2545\t134\t469\n",
    "3885\t1098\t2638\t5806\t4655\t4787\t186\t4024\t2286\t5585\t5590\t215\t5336\t2738\t218\t266\n",
    "661\t789\t393\t159\t172\t355\t820\t891\t196\t831\t345\t784\t65\t971\t396\t234\n",
    "4095\t191\t4333\t161\t3184\t193\t4830\t4153\t2070\t3759\t1207\t3222\t185\t176\t2914\t4152\n",
    "131\t298\t279\t304\t118\t135\t300\t74\t269\t96\t366\t341\t139\t159\t17\t149\n",
    "1155\t5131\t373\t136\t103\t5168\t3424\t5126\t122\t5046\t4315\t126\t236\t4668\t4595\t4959\n",
    "664\t635\t588\t673\t354\t656\t70\t86\t211\t139\t95\t40\t84\t413\t618\t31\n",
    "2163\t127\t957\t2500\t2370\t2344\t2224\t1432\t125\t1984\t2392\t379\t2292\t98\t456\t154\n",
    "271\t4026\t2960\t6444\t2896\t228\t819\t676\t6612\t6987\t265\t2231\t2565\t6603\t207\t6236\n",
    "91\t683\t1736\t1998\t1960\t1727\t84\t1992\t1072\t1588\t1768\t74\t58\t1956\t1627\t893\n",
    "3591\t1843\t3448\t1775\t3564\t2632\t1002\t3065\t77\t3579\t78\t99\t1668\t98\t2963\t3553\n",
    "2155\t225\t2856\t3061\t105\t204\t1269\t171\t2505\t2852\t977\t1377\t181\t1856\t2952\t2262\"\"\""
   ]
  },
  {
   "cell_type": "code",
   "execution_count": 10,
   "metadata": {},
   "outputs": [
    {
     "name": "stdout",
     "output_type": "stream",
     "text": [
      "41919\n"
     ]
    }
   ],
   "source": [
    "# Part 1\n",
    "checksum = 0\n",
    "for row in input_data.split('\\n'):\n",
    "    row_list = list(map(lambda x: int(x),row.split('\\t')))\n",
    "    checksum += max(row_list) - min(row_list)\n",
    "print(checksum)"
   ]
  },
  {
   "cell_type": "code",
   "execution_count": 13,
   "metadata": {},
   "outputs": [
    {
     "name": "stdout",
     "output_type": "stream",
     "text": [
      "303\n"
     ]
    }
   ],
   "source": [
    "# Part 2\n",
    "checksum = 0\n",
    "for row in input_data.split('\\n'):\n",
    "    row_list = list(map(lambda x: float(x),row.split('\\t')))\n",
    "    for iter1 in row_list:\n",
    "        for iter2 in row_list:\n",
    "            if iter1%iter2 == 0 and iter1 != iter2:\n",
    "                checksum += int(iter1/iter2)\n",
    "                break\n",
    "print(checksum)"
   ]
  }
 ],
 "metadata": {
  "kernelspec": {
   "display_name": "Python 3",
   "language": "python",
   "name": "python3"
  },
  "language_info": {
   "codemirror_mode": {
    "name": "ipython",
    "version": 3
   },
   "file_extension": ".py",
   "mimetype": "text/x-python",
   "name": "python",
   "nbconvert_exporter": "python",
   "pygments_lexer": "ipython3",
   "version": "3.6.1"
  }
 },
 "nbformat": 4,
 "nbformat_minor": 2
}
