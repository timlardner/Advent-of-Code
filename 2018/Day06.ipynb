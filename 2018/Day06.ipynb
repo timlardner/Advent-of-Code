{
 "cells": [
  {
   "cell_type": "code",
   "execution_count": 97,
   "metadata": {},
   "outputs": [],
   "source": [
    "from aocd import get_data\n",
    "\n",
    "puzzle_input = get_data(day=6, year=2018).split('\\n')"
   ]
  },
  {
   "cell_type": "code",
   "execution_count": 95,
   "metadata": {},
   "outputs": [
    {
     "name": "stdout",
     "output_type": "stream",
     "text": [
      "3604\n"
     ]
    }
   ],
   "source": [
    "from collections import defaultdict\n",
    "\n",
    "max_x = 0\n",
    "max_y = 0\n",
    "\n",
    "min_x = 1000\n",
    "min_y = 1000\n",
    "\n",
    "for coord in puzzle_input:\n",
    "    x, y = tuple(int(x) for x in coord.split(', '))\n",
    "    if x > max_x:\n",
    "        max_x = x\n",
    "    if y > max_y:\n",
    "        max_y = y\n",
    "    \n",
    "    if x < min_x:\n",
    "        min_x = x\n",
    "    if y < min_y:\n",
    "        min_y = y\n",
    "\n",
    "cartesian_grid = defaultdict(lambda: defaultdict(str))\n",
    "\n",
    "def find_nearest_populated(x, y):\n",
    "    min_distance = None\n",
    "    best_tuple = '.'\n",
    "    for coord in puzzle_input:\n",
    "        coord_tuple = tuple(int(x) for x in coord.split(', '))\n",
    "        distance = abs(x-coord_tuple[0]) + abs(y-coord_tuple[1])\n",
    "        \n",
    "        if distance == min_distance:\n",
    "            best_tuple = '.'\n",
    "        elif min_distance is None or distance < min_distance: \n",
    "            min_distance = distance\n",
    "            best_tuple = coord_tuple\n",
    "    \n",
    "    return best_tuple\n",
    "\n",
    "\n",
    "for x in range(min_x, max_x):\n",
    "    for y in range(min_y, max_y):\n",
    "        cartesian_grid[x][y] = find_nearest_populated(x, y)\n",
    "\n",
    "tuple_count = defaultdict(int)\n",
    "\n",
    "for key, value in cartesian_grid.items():\n",
    "    for sub_key, sub_value in value.items():\n",
    "        tuple_count[sub_value] += 1\n",
    "\n",
    "edge_tuples = set()\n",
    "\n",
    "for edge_tuple in cartesian_grid[min_x].values():\n",
    "    edge_tuples.add(edge_tuple)\n",
    "    \n",
    "for edge_tuple in cartesian_grid[max_x-1].values():\n",
    "    edge_tuples.add(edge_tuple)\n",
    "\n",
    "for key, value in cartesian_grid.items():\n",
    "    for sub_key, sub_value in value.items():\n",
    "        if sub_key in (min_y, max_y-1):\n",
    "            edge_tuples.add(sub_value)\n",
    "\n",
    "print(max([value for key, value in tuple_count.items() if key not in edge_tuples]))"
   ]
  },
  {
   "cell_type": "code",
   "execution_count": 96,
   "metadata": {},
   "outputs": [
    {
     "name": "stdout",
     "output_type": "stream",
     "text": [
      "46563\n"
     ]
    }
   ],
   "source": [
    "cartesian_grid = defaultdict(lambda: defaultdict(str))\n",
    "\n",
    "limit = 10000\n",
    "\n",
    "def is_coord_in_limit(x, y):\n",
    "    distance = 0\n",
    "    for coord in puzzle_input:\n",
    "        co_x, co_y = tuple(int(x) for x in coord.split(', '))\n",
    "        distance += abs(co_x-x)\n",
    "        distance += abs(co_y-y)\n",
    "        \n",
    "        if distance >= limit:\n",
    "            return False\n",
    "        \n",
    "    return True\n",
    "        \n",
    "\n",
    "for x in range(min_x, max_x):\n",
    "    for y in range(min_y, max_y):\n",
    "        cartesian_grid[x][y] = is_coord_in_limit(x, y)\n",
    "        \n",
    "n_true = 0\n",
    "for x in range(min_x, max_x):\n",
    "    for y in range(min_y, max_y):\n",
    "        if cartesian_grid[x][y]:\n",
    "            n_true += 1\n",
    "            \n",
    "print(n_true)"
   ]
  }
 ],
 "metadata": {
  "kernelspec": {
   "display_name": "Python 3",
   "language": "python",
   "name": "python3"
  },
  "language_info": {
   "codemirror_mode": {
    "name": "ipython",
    "version": 3
   },
   "file_extension": ".py",
   "mimetype": "text/x-python",
   "name": "python",
   "nbconvert_exporter": "python",
   "pygments_lexer": "ipython3",
   "version": "3.6.5"
  }
 },
 "nbformat": 4,
 "nbformat_minor": 2
}
