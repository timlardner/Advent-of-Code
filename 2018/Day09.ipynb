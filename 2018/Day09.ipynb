{
 "cells": [
  {
   "cell_type": "code",
   "execution_count": 129,
   "metadata": {},
   "outputs": [
    {
     "name": "stdout",
     "output_type": "stream",
     "text": [
      "3628143500\n"
     ]
    }
   ],
   "source": [
    "from collections import defaultdict\n",
    "\n",
    "players = 405\n",
    "score = 7170000\n",
    "\n",
    "if False:\n",
    "    players = 9\n",
    "    score = 25\n",
    "\n",
    "scores = defaultdict(int)\n",
    "current_score = 1\n",
    "current_player = 0\n",
    "\n",
    "\n",
    "class Node:\n",
    "    def __init__(self, value):\n",
    "        self.value = value\n",
    "        self.next = None\n",
    "        self.prev = None\n",
    "        \n",
    "    def __repr__(self):\n",
    "        return str(self.value)\n",
    "        \n",
    "\n",
    "class LinkedList:\n",
    "    def __init__(self, values=(0,)):\n",
    "        self.root_node = Node(0)\n",
    "        self.root_node.next = self.root_node\n",
    "        self.root_node.prev = self.root_node\n",
    "            \n",
    "    @staticmethod\n",
    "    def insert(value, at_node):\n",
    "        node = Node(value)\n",
    "        at_node.next.prev = node\n",
    "        node.next = at_node.next\n",
    "        node.prev = at_node\n",
    "        at_node.next = node\n",
    "        return node\n",
    "        \n",
    "    @staticmethod\n",
    "    def remove(node):\n",
    "        node.prev.next = node.next\n",
    "        node.next.prev = node.prev\n",
    "        return node.next, node.value\n",
    "    \n",
    "    def print_nodes(self):\n",
    "        output = [str(self.root_node.value)]\n",
    "        current_node = self.root_node.next\n",
    "        while current_node != self.root_node:\n",
    "            output.append(str(current_node.value))\n",
    "            current_node = current_node.next\n",
    "        print(', '.join(output))\n",
    "\n",
    "\n",
    "LL = LinkedList()\n",
    "current_node = LL.root_node\n",
    "\n",
    "\n",
    "while current_score <= score:\n",
    "    if current_score % 23 == 0:\n",
    "        for _ in range(7):\n",
    "            current_node = current_node.prev\n",
    "        current_node, node_val = LL.remove(current_node)\n",
    "        scores[current_player % players] += (node_val + current_score)\n",
    "    else:  \n",
    "        current_node = LL.insert(current_score, current_node.next)\n",
    "\n",
    "    current_score += 1\n",
    "    current_player += 1\n",
    "\n",
    "\n",
    "print(max(scores.values()))"
   ]
  }
 ],
 "metadata": {
  "kernelspec": {
   "display_name": "Python 3",
   "language": "python",
   "name": "python3"
  },
  "language_info": {
   "codemirror_mode": {
    "name": "ipython",
    "version": 3
   },
   "file_extension": ".py",
   "mimetype": "text/x-python",
   "name": "python",
   "nbconvert_exporter": "python",
   "pygments_lexer": "ipython3",
   "version": "3.6.1"
  }
 },
 "nbformat": 4,
 "nbformat_minor": 2
}
