{
 "cells": [
  {
   "cell_type": "code",
   "execution_count": 1,
   "metadata": {
    "collapsed": true
   },
   "outputs": [],
   "source": [
    "from aocd import get_data\n",
    "\n",
    "puzzle_input = get_data(day=5, year=2018)"
   ]
  },
  {
   "cell_type": "code",
   "execution_count": 2,
   "metadata": {},
   "outputs": [],
   "source": [
    "def react(puzzle_input):\n",
    "    ignore_list = set()\n",
    "    last_length = 0\n",
    "    times_with_no_removal = 0\n",
    "    \n",
    "    while True:\n",
    "        current_pointer = 0\n",
    "        last_pointer = None\n",
    "        last_letter = None\n",
    "        \n",
    "        while current_pointer < len(puzzle_input):\n",
    "            if current_pointer in ignore_list:\n",
    "                current_pointer += 1\n",
    "                continue\n",
    "\n",
    "            if last_letter and last_letter.swapcase() == puzzle_input[current_pointer]:\n",
    "                ignore_list.add(last_pointer)\n",
    "                ignore_list.add(current_pointer)\n",
    "                last_letter = None\n",
    "                current_pointer += 1\n",
    "                continue\n",
    "\n",
    "            last_letter = puzzle_input[current_pointer]\n",
    "            last_pointer = current_pointer\n",
    "            current_pointer += 1\n",
    "\n",
    "        if len(ignore_list) == last_length:\n",
    "            return ''.join([char for idx, char in enumerate(puzzle_input) if idx not in ignore_list])\n",
    "        else:\n",
    "            last_length = len(ignore_list)\n"
   ]
  },
  {
   "cell_type": "code",
   "execution_count": 3,
   "metadata": {},
   "outputs": [
    {
     "name": "stdout",
     "output_type": "stream",
     "text": [
      "10598\n"
     ]
    }
   ],
   "source": [
    "print(len(react(puzzle_input)))"
   ]
  },
  {
   "cell_type": "code",
   "execution_count": null,
   "metadata": {},
   "outputs": [],
   "source": [
    "#Part-2output_map = {}\n",
    "for character in set(puzzle_input.lower()):\n",
    "    filtered_puzzle_input = [item for item in puzzle_input if item not in (character, character.swapcase())]\n",
    "    output_map[character] = len(react(filtered_puzzle_input))\n",
    "    \n",
    "print(min(output_map, key=output_map.get), output_map[min(output_map, key=output_map.get)])"
   ]
  }
 ],
 "metadata": {
  "kernelspec": {
   "display_name": "Python 3",
   "language": "python",
   "name": "python3"
  },
  "language_info": {
   "codemirror_mode": {
    "name": "ipython",
    "version": 3
   },
   "file_extension": ".py",
   "mimetype": "text/x-python",
   "name": "python",
   "nbconvert_exporter": "python",
   "pygments_lexer": "ipython3",
   "version": "3.6.1"
  }
 },
 "nbformat": 4,
 "nbformat_minor": 2
}
