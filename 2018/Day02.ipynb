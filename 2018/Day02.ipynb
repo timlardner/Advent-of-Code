{
 "cells": [
  {
   "cell_type": "code",
   "execution_count": 1,
   "metadata": {},
   "outputs": [],
   "source": [
    "from aocd import get_data\n",
    "\n",
    "puzzle_input = get_data(day=2, year=2018)"
   ]
  },
  {
   "cell_type": "code",
   "execution_count": 2,
   "metadata": {},
   "outputs": [
    {
     "name": "stdout",
     "output_type": "stream",
     "text": [
      "7105\n"
     ]
    }
   ],
   "source": [
    "# Part01\n",
    "\n",
    "from collections import Counter\n",
    "\n",
    "twos = 0\n",
    "threes = 0\n",
    "\n",
    "box_list = puzzle_input.split('\\n')\n",
    "for box in box_list:\n",
    "    c = Counter(box)\n",
    "    if 2 in c.values():\n",
    "        twos += 1\n",
    "    if 3 in c.values():\n",
    "        threes += 1\n",
    "        \n",
    "print(twos * threes)"
   ]
  },
  {
   "cell_type": "code",
   "execution_count": 3,
   "metadata": {},
   "outputs": [
    {
     "name": "stdout",
     "output_type": "stream",
     "text": [
      "omlvgdokxfncvqyersasjziup\n"
     ]
    }
   ],
   "source": [
    "# Part02\n",
    "\n",
    "from itertools import permutations\n",
    "\n",
    "def test(word1, word2):\n",
    "    drop_list = range(len(word1))\n",
    "    for drop in drop_list:\n",
    "        w1 = word1[:drop:] + word1[drop+1::]\n",
    "        w2 = word2[:drop:] + word2[drop+1::]\n",
    "                \n",
    "        if w1 == w2:\n",
    "            print(w1)\n",
    "            return True\n",
    "        \n",
    "    return False\n",
    "\n",
    "box_list = puzzle_input.split('\\n')\n",
    "for perm in permutations(box_list, 2):\n",
    "    if test(*perm):\n",
    "        break\n",
    "else:\n",
    "    print('Nothing found')"
   ]
  }
 ],
 "metadata": {
  "kernelspec": {
   "display_name": "Python 3",
   "language": "python",
   "name": "python3"
  },
  "language_info": {
   "codemirror_mode": {
    "name": "ipython",
    "version": 3
   },
   "file_extension": ".py",
   "mimetype": "text/x-python",
   "name": "python",
   "nbconvert_exporter": "python",
   "pygments_lexer": "ipython3",
   "version": "3.6.5"
  }
 },
 "nbformat": 4,
 "nbformat_minor": 2
}
