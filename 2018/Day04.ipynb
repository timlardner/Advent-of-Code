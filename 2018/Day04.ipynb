{
 "cells": [
  {
   "cell_type": "code",
   "execution_count": 53,
   "metadata": {},
   "outputs": [],
   "source": [
    "from aocd import get_data\n",
    "\n",
    "from collections import defaultdict\n",
    "from datetime import datetime\n",
    "import re\n",
    "\n",
    "puzzle_input = get_data(day=4, year=2018).split('\\n')"
   ]
  },
  {
   "cell_type": "code",
   "execution_count": 54,
   "metadata": {},
   "outputs": [
    {
     "name": "stdout",
     "output_type": "stream",
     "text": [
      "4716\n"
     ]
    }
   ],
   "source": [
    "# Part01\n",
    "\n",
    "sorted_input = sorted(puzzle_input, key=lambda x: datetime.strptime(x[6:17], '%m-%d %H:%M'))\n",
    "\n",
    "guard_dict = defaultdict(lambda: defaultdict(int))\n",
    "\n",
    "current_guard_id = None\n",
    "fell_asleep = None\n",
    "\n",
    "for line in sorted_input:\n",
    "    new_guard = re.match('.*Guard #([0-9]*) .*', line)\n",
    "    if new_guard:\n",
    "        current_guard_id = new_guard.group(1)\n",
    "        \n",
    "    if 'falls asleep' in line:\n",
    "        fell_asleep = int(line[15:17])\n",
    "\n",
    "    if 'wakes up' in line:\n",
    "        woke_up = int(line[15:17])\n",
    "        \n",
    "        \n",
    "        for minute in range(fell_asleep, woke_up):\n",
    "            guard_dict[current_guard_id][minute] += 1\n",
    "\n",
    "# Find most sleepy guard\n",
    "most_sleepy_guard = (0, 0)\n",
    "for guard_id, sleeping_minutes in guard_dict.items():\n",
    "    asleep_minutes = sum(sleeping_minutes.values())\n",
    "    if asleep_minutes > most_sleepy_guard[1]:\n",
    "        most_sleepy_guard = (guard_id, asleep_minutes)\n",
    "\n",
    "# Find most alseep minutes\n",
    "most_asleep_minutes = (0, 0)\n",
    "for minute, count in guard_dict[most_sleepy_guard[0]].items():\n",
    "    if count > most_asleep_minutes[1]:\n",
    "        most_asleep_minutes = (minute, count)\n",
    "        \n",
    "\n",
    "print(int(most_sleepy_guard[0]) * most_asleep_minutes[0])"
   ]
  },
  {
   "cell_type": "code",
   "execution_count": 52,
   "metadata": {},
   "outputs": [
    {
     "name": "stdout",
     "output_type": "stream",
     "text": [
      "117061\n"
     ]
    }
   ],
   "source": [
    "# Part02\n",
    "\n",
    "# Find most alseep minutes\n",
    "most_asleep_minutes_by_guard = (0, 0, 0)\n",
    "\n",
    "for guard_id, sleeping_minutes in guard_dict.items():\n",
    "    for minute, count in sleeping_minutes.items():\n",
    "        if count > most_asleep_minutes_by_guard[2]:\n",
    "            most_asleep_minutes_by_guard = (guard_id, minute, count)\n",
    "\n",
    "print(int(most_asleep_minutes_by_guard[0])*most_asleep_minutes_by_guard[1])"
   ]
  }
 ],
 "metadata": {
  "kernelspec": {
   "display_name": "Python 3",
   "language": "python",
   "name": "python3"
  },
  "language_info": {
   "codemirror_mode": {
    "name": "ipython",
    "version": 3
   },
   "file_extension": ".py",
   "mimetype": "text/x-python",
   "name": "python",
   "nbconvert_exporter": "python",
   "pygments_lexer": "ipython3",
   "version": "3.6.5"
  }
 },
 "nbformat": 4,
 "nbformat_minor": 2
}
