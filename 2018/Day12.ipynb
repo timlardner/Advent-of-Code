{
 "cells": [
  {
   "cell_type": "code",
   "execution_count": 2,
   "metadata": {},
   "outputs": [],
   "source": [
    "from aocd import get_data\n",
    "\n",
    "puzzle_input = \"\"\"initial state: #..#.#..##......###...###\n",
    "\n",
    "...## => #\n",
    "..#.. => #\n",
    ".#... => #\n",
    ".#.#. => #\n",
    ".#.## => #\n",
    ".##.. => #\n",
    ".#### => #\n",
    "#.#.# => #\n",
    "#.### => #\n",
    "##.#. => #\n",
    "##.## => #\n",
    "###.. => #\n",
    "###.# => #\n",
    "####. => #\"\"\".split('\\n')\n",
    "\n",
    "puzzle_input = get_data(day=12, year=2018).split('\\n')"
   ]
  },
  {
   "cell_type": "code",
   "execution_count": 39,
   "metadata": {},
   "outputs": [
    {
     "name": "stdout",
     "output_type": "stream",
     "text": [
      "2571\n",
      "3100000006855\n"
     ]
    }
   ],
   "source": [
    "from collections import defaultdict\n",
    "from pprint import pprint\n",
    "\n",
    "\n",
    "class PlantStuff:\n",
    "    def __init__(self, puzzle_input):\n",
    "        self.seen = set()\n",
    "        self.repeat_pattern = None\n",
    "        rules = puzzle_input[2:]\n",
    "        self.rules_list = {rule.split(' => ')[0]: rule.split(' => ')[1]for rule in rules}\n",
    "\n",
    "        initial_state = puzzle_input[0][15:]\n",
    "\n",
    "        self.plants = defaultdict(lambda: '.')\n",
    "        self.next_plants = defaultdict(lambda: '.')\n",
    "        for idx, state in enumerate(initial_state):\n",
    "            self.plants[idx] = state\n",
    "    \n",
    "    def step(self, generation=0):\n",
    "        self.next_plants.clear()\n",
    "\n",
    "        iter_from = min([idx for idx, plant in self.plants.items() if plant == '#']) - 2\n",
    "        iter_to = max([idx for idx, plant in self.plants.items() if plant == '#']) + 2\n",
    "        pattern = ''.join([self.plants[idx] for idx in range(iter_from, iter_to)])\n",
    "        if pattern in self.seen:\n",
    "            if self.repeat_pattern is None:\n",
    "                self.repeat_pattern = pattern\n",
    "            elif pattern == self.repeat_pattern:\n",
    "                print(sum([idx+50000000000-generation for idx, plant in ps.plants.items() if plant == '#']))\n",
    "                return True\n",
    "        else:\n",
    "            self.seen.add(pattern)\n",
    "\n",
    "        key = '.' + ''.join([self.plants[idx] for idx in range(iter_from-2, iter_from+2)])\n",
    "        for current_plant in range(iter_from, iter_to+1):\n",
    "            key = key[1:] + self.plants[current_plant+2]\n",
    "            self.next_plants[current_plant] = self.rules_list.get(key, '.')\n",
    "            \n",
    "        self.plants, self.next_plants = self.next_plants, self.plants\n",
    "        return False\n",
    "\n",
    "    def print_plants(self):\n",
    "        iter_from = min([idx for idx, plant in self.plants.items() if plant == '#'] + [-2])\n",
    "        iter_to = max([idx for idx, plant in self.plants.items() if plant == '#']) + 2\n",
    "        print(''.join([self.plants[idx] for idx in range(iter_from, iter_to)]))\n",
    "\n",
    "    def part_one(self):\n",
    "        for generation in range(20):\n",
    "            ps.step()\n",
    "        print(sum([idx for idx, plant in ps.plants.items() if plant == '#']))\n",
    "    \n",
    "    def part_two(self):\n",
    "        for generation in range(1000):\n",
    "            if ps.step():\n",
    "                break\n",
    "\n",
    "ps = PlantStuff(puzzle_input)\n",
    "ps.part_one()\n",
    "ps.part_two()"
   ]
  }
 ],
 "metadata": {
  "kernelspec": {
   "display_name": "Python 3",
   "language": "python",
   "name": "python3"
  },
  "language_info": {
   "codemirror_mode": {
    "name": "ipython",
    "version": 3
   },
   "file_extension": ".py",
   "mimetype": "text/x-python",
   "name": "python",
   "nbconvert_exporter": "python",
   "pygments_lexer": "ipython3",
   "version": "3.6.1"
  }
 },
 "nbformat": 4,
 "nbformat_minor": 2
}
