{
 "cells": [
  {
   "cell_type": "code",
   "execution_count": 57,
   "metadata": {},
   "outputs": [],
   "source": [
    "from aocd import get_data\n",
    "\n",
    "puzzle_input = get_data(day=1, year=2018).split('\\n')"
   ]
  },
  {
   "cell_type": "code",
   "execution_count": 58,
   "metadata": {},
   "outputs": [
    {
     "name": "stdout",
     "output_type": "stream",
     "text": [
      "578\n"
     ]
    }
   ],
   "source": [
    "# Part One\n",
    "print(sum(int(line) for line in puzzle_input))"
   ]
  },
  {
   "cell_type": "code",
   "execution_count": 53,
   "metadata": {},
   "outputs": [
    {
     "name": "stdout",
     "output_type": "stream",
     "text": [
      "82516\n"
     ]
    }
   ],
   "source": [
    "# Part Two\n",
    "from itertools import cycle, takewhile\n",
    "\n",
    "# If Python 3.8 was a thing, we wouldn't need this\n",
    "class Current:\n",
    "    def __init__(self):\n",
    "        self.value = 0\n",
    "    def update(self, x):\n",
    "        self.value += x\n",
    "        return self.value\n",
    "\n",
    "seen = set()\n",
    "current = Current()\n",
    "\n",
    "# Totally terrible attempt at a one-liner\n",
    "print(current.value) if all(takewhile(lambda x: False if current.update(x) in seen else seen.add(current.value) is None, cycle(int(line) for line in get_data(day=1, year=2018).split('\\n')))) else None"
   ]
  }
 ],
 "metadata": {
  "kernelspec": {
   "display_name": "Python 3",
   "language": "python",
   "name": "python3"
  },
  "language_info": {
   "codemirror_mode": {
    "name": "ipython",
    "version": 3
   },
   "file_extension": ".py",
   "mimetype": "text/x-python",
   "name": "python",
   "nbconvert_exporter": "python",
   "pygments_lexer": "ipython3",
   "version": "3.6.5"
  }
 },
 "nbformat": 4,
 "nbformat_minor": 2
}
