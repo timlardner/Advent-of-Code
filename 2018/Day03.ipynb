{
 "cells": [
  {
   "cell_type": "code",
   "execution_count": 2,
   "metadata": {},
   "outputs": [],
   "source": [
    "from aocd import get_data\n",
    "\n",
    "puzzle_input = get_data(day=3, year=2018)"
   ]
  },
  {
   "cell_type": "code",
   "execution_count": 2,
   "metadata": {},
   "outputs": [
    {
     "name": "stdout",
     "output_type": "stream",
     "text": [
      "105047\n"
     ]
    }
   ],
   "source": [
    "# Part01\n",
    "\n",
    "from collections import defaultdict\n",
    "import re\n",
    "grid = defaultdict(lambda: defaultdict(int))\n",
    "claims = puzzle_input.split('\\n')\n",
    "claim_regex = '^#([0-9]*) @ ([0-9]*),([0-9]*): ([0-9]*)x([0-9]*)$'\n",
    "for claim in claims:\n",
    "    x = re.match(claim_regex, claim)\n",
    "    claim_id, from_left, from_top, width, height = x.groups()\n",
    "    for x in range(int(width)):\n",
    "        for y in range(int(height)):\n",
    "            x_pos = int(from_left) + x\n",
    "            y_pos = int(from_top) + y\n",
    "            grid[x_pos][y_pos] += 1\n",
    "            \n",
    "overlaps = 0\n",
    "for sub_dict in grid.values():\n",
    "    for cell in sub_dict.values():\n",
    "        if cell > 1:\n",
    "            overlaps += 1\n",
    "\n",
    "print(overlaps)"
   ]
  },
  {
   "cell_type": "code",
   "execution_count": 20,
   "metadata": {},
   "outputs": [
    {
     "name": "stdout",
     "output_type": "stream",
     "text": [
      "658\n"
     ]
    }
   ],
   "source": [
    "# Part02\n",
    "\n",
    "from collections import defaultdict\n",
    "import re\n",
    "\n",
    "grid = defaultdict(lambda: defaultdict(int))\n",
    "claims = puzzle_input.split('\\n')\n",
    "bad_values = set()\n",
    "\n",
    "claim_regex = '^#([0-9]*) @ ([0-9]*),([0-9]*): ([0-9]*)x([0-9]*)$'\n",
    "for claim in claims:\n",
    "    x = re.match(claim_regex, claim)\n",
    "    claim_id, from_left, from_top, width, height = (int(x) for x in x.groups())    \n",
    "    \n",
    "    for x in range(int(width)):\n",
    "        for y in range(int(height)):\n",
    "            current_value = grid[from_left + x][from_top + y]\n",
    "            if current_value > 0:\n",
    "                # Both overlaps are now invalid\n",
    "                bad_values.add(current_value)\n",
    "                bad_values.add(claim_id)\n",
    "        \n",
    "    # Fill in the grid for future checks\n",
    "    for x in range(int(width)):\n",
    "        for y in range(int(height)):\n",
    "            grid[from_left + x][from_top + y] = claim_id\n",
    "                \n",
    "\n",
    "print((set(range(1,len(claims)+1)) ^ bad_values).pop())"
   ]
  }
 ],
 "metadata": {
  "kernelspec": {
   "display_name": "Python 3",
   "language": "python",
   "name": "python3"
  },
  "language_info": {
   "codemirror_mode": {
    "name": "ipython",
    "version": 3
   },
   "file_extension": ".py",
   "mimetype": "text/x-python",
   "name": "python",
   "nbconvert_exporter": "python",
   "pygments_lexer": "ipython3",
   "version": "3.6.5"
  }
 },
 "nbformat": 4,
 "nbformat_minor": 2
}
