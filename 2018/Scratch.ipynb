{
 "cells": [
  {
   "cell_type": "code",
   "execution_count": 1,
   "metadata": {
    "collapsed": true
   },
   "outputs": [],
   "source": [
    "from aocd import get_data\n",
    "\n",
    "orig_puzzle_input = get_data(day=5, year=2018)"
   ]
  },
  {
   "cell_type": "code",
   "execution_count": 4,
   "metadata": {
    "collapsed": true
   },
   "outputs": [],
   "source": [
    "puzzle_input = orig_puzzle_input\n",
    "\n",
    "def react(polymer):\n",
    "    puzzle_input = polymer\n",
    "    max_pointer = len(puzzle_input)\n",
    "    ignore_list = set()\n",
    "    times_with_no_removal = 0\n",
    "    \n",
    "    while True:\n",
    "        removed = False\n",
    "        current_pointer = 0\n",
    "        last_letter = None\n",
    "        \n",
    "        while current_pointer < max_pointer:\n",
    "            if current_pointer in ignore_list:\n",
    "                current_pointer += 1\n",
    "                continue\n",
    "\n",
    "            if last_letter and last_letter.swapcase() == puzzle_input[current_pointer]:\n",
    "                ignore_list.add(current_pointer-1)\n",
    "                ignore_list.add(current_pointer)\n",
    "                removed = True\n",
    "                times_with_no_removal = 0\n",
    "                last_letter = None\n",
    "                current_pointer += 1\n",
    "                continue\n",
    "\n",
    "            last_letter = puzzle_input[current_pointer]\n",
    "            current_pointer += 1\n",
    "\n",
    "        if not removed:\n",
    "            times_with_no_removal += 1\n",
    "            \n",
    "        if times_with_no_removal > 2:\n",
    "            return ''.join([char for idx, char in enumerate(puzzle_input) if idx not in ignore_list])\n"
   ]
  },
  {
   "cell_type": "code",
   "execution_count": 5,
   "metadata": {},
   "outputs": [
    {
     "name": "stdout",
     "output_type": "stream",
     "text": [
      "18009\n"
     ]
    }
   ],
   "source": [
    "print(len(react(orig_puzzle_input)))"
   ]
  }
 ],
 "metadata": {
  "kernelspec": {
   "display_name": "Python 3",
   "language": "python",
   "name": "python3"
  },
  "language_info": {
   "codemirror_mode": {
    "name": "ipython",
    "version": 3
   },
   "file_extension": ".py",
   "mimetype": "text/x-python",
   "name": "python",
   "nbconvert_exporter": "python",
   "pygments_lexer": "ipython3",
   "version": "3.6.1"
  }
 },
 "nbformat": 4,
 "nbformat_minor": 2
}
