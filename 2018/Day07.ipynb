{
 "cells": [
  {
   "cell_type": "code",
   "execution_count": 1,
   "metadata": {},
   "outputs": [],
   "source": [
    "import re\n",
    "\n",
    "from aocd import get_data\n",
    "\n",
    "puzzle_input = get_data(day=7, year=2018).split('\\n')\n",
    "test_input = \"\"\"Step C must be finished before step A can begin.\n",
    "Step C must be finished before step F can begin.\n",
    "Step A must be finished before step B can begin.\n",
    "Step A must be finished before step D can begin.\n",
    "Step B must be finished before step E can begin.\n",
    "Step D must be finished before step E can begin.\n",
    "Step F must be finished before step E can begin.\"\"\".split('\\n')"
   ]
  },
  {
   "cell_type": "code",
   "execution_count": 2,
   "metadata": {},
   "outputs": [],
   "source": [
    "class Node:\n",
    "    def __init__(self, name, is_test=False):\n",
    "        self.name = name\n",
    "        self.dependencies = []\n",
    "        self.is_complete = False\n",
    "        self.working = False\n",
    "        self.complete_timestamp = None\n",
    "        self.ts_offset = -60 if is_test else 0\n",
    "        \n",
    "    def start_work(self, timestamp):\n",
    "        #print('Starting work on {} at {}'.format(self.name, timestamp))\n",
    "        self.working = True\n",
    "        self.complete_timestamp = timestamp + ord(self.name)-5 + self.ts_offset\n",
    "        \n",
    "    def step(self, timestamp):\n",
    "        if self.working and timestamp >= self.complete_timestamp:\n",
    "            #print('{} completed at {}'.format(self.name, timestamp))\n",
    "            return self.complete()\n",
    "    \n",
    "    def add_dependency(self, dep):\n",
    "        self.dependencies.append(dep)\n",
    "        \n",
    "    def can_complete(self):\n",
    "        return not self.is_complete and all(dep.is_complete for dep in self.dependencies)\n",
    "    \n",
    "    def can_start(self):\n",
    "        return not self.working and not self.is_complete and all(dep.is_complete for dep in self.dependencies)\n",
    "    \n",
    "    def complete(self):\n",
    "        self.is_complete = True\n",
    "        self.working = False\n",
    "        return self.name\n",
    "        \n",
    "    def __repr__(self):\n",
    "        return '<Node>: ' + self.name"
   ]
  },
  {
   "cell_type": "code",
   "execution_count": 3,
   "metadata": {},
   "outputs": [],
   "source": [
    "def get_next_node(nodes):\n",
    "    avail_nodes = []\n",
    "    for key, node in nodes.items():\n",
    "        if node.can_complete():\n",
    "            avail_nodes.append(key)\n",
    "            \n",
    "    return min(avail_nodes) if avail_nodes else None\n",
    "\n",
    "def get_next_threaded_node(nodes, threads=5):\n",
    "    avail_nodes = []\n",
    "    n_working = 0\n",
    "    \n",
    "    for key, node in nodes.items():\n",
    "        if node.working:\n",
    "            n_working += 1\n",
    "            \n",
    "        if node.can_start():\n",
    "            avail_nodes.append(key)\n",
    "            \n",
    "    return sorted(avail_nodes)[:threads-n_working]\n",
    "\n",
    "def build_nodes(puzzle_input, is_test=False):\n",
    "    deps = [re.findall('tep (\\w)', line) for line in puzzle_input]\n",
    "    req_nodes = [dep[1] for dep in deps] + [dep[0] for dep in deps]\n",
    "    nodes = {node:Node(node, is_test=is_test) for node in set(req_nodes)}\n",
    "    for dep in deps:\n",
    "        nodes[dep[1]].add_dependency(nodes[dep[0]])\n",
    "        \n",
    "    return nodes\n",
    "\n",
    "def all_nodes_complete(nodes):\n",
    "    return all(node.is_complete for node in nodes.values())"
   ]
  },
  {
   "cell_type": "code",
   "execution_count": 4,
   "metadata": {},
   "outputs": [
    {
     "data": {
      "text/plain": [
       "'EBICGKQOVMYZJAWRDPXFSUTNLH'"
      ]
     },
     "execution_count": 4,
     "metadata": {},
     "output_type": "execute_result"
    }
   ],
   "source": [
    "# Part 01\n",
    "\n",
    "nodes = build_nodes(puzzle_input, is_test=False)\n",
    "\n",
    "order = ''\n",
    "while get_next_node(nodes):\n",
    "    order += nodes[get_next_node(nodes)[0]].complete()\n",
    "order"
   ]
  },
  {
   "cell_type": "code",
   "execution_count": 5,
   "metadata": {},
   "outputs": [
    {
     "name": "stdout",
     "output_type": "stream",
     "text": [
      "906\n"
     ]
    }
   ],
   "source": [
    "# Part 02\n",
    "\n",
    "nodes = build_nodes(puzzle_input, is_test=False)\n",
    "\n",
    "timestamp = 0\n",
    "while True:\n",
    "    avail_nodes = get_next_threaded_node(nodes, 5)\n",
    "    for node in avail_nodes:\n",
    "        nodes[node].start_work(timestamp)\n",
    "    \n",
    "    for node in nodes.values():\n",
    "        node.step(timestamp)\n",
    "        \n",
    "    timestamp += 1\n",
    "    \n",
    "    if all_nodes_complete(nodes):\n",
    "        break\n",
    "        \n",
    "print(timestamp)"
   ]
  }
 ],
 "metadata": {
  "kernelspec": {
   "display_name": "Python 3",
   "language": "python",
   "name": "python3"
  },
  "language_info": {
   "codemirror_mode": {
    "name": "ipython",
    "version": 3
   },
   "file_extension": ".py",
   "mimetype": "text/x-python",
   "name": "python",
   "nbconvert_exporter": "python",
   "pygments_lexer": "ipython3",
   "version": "3.6.5"
  }
 },
 "nbformat": 4,
 "nbformat_minor": 2
}
