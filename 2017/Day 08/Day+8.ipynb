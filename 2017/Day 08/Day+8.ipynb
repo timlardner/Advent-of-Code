{
 "cells": [
  {
   "cell_type": "code",
   "execution_count": 35,
   "metadata": {},
   "outputs": [],
   "source": [
    "import requests\n",
    "from collections import defaultdict\n",
    "instructions = requests.get('https://aoc.intae.it/8').text.split('\\n')"
   ]
  },
  {
   "cell_type": "code",
   "execution_count": 54,
   "metadata": {},
   "outputs": [
    {
     "name": "stdout",
     "output_type": "stream",
     "text": [
      "5849\n",
      "6702\n"
     ]
    }
   ],
   "source": [
    "registers = defaultdict(int)\n",
    "highestval = 0\n",
    "for line in instructions:\n",
    "    instruction = line.split('if')[0].strip().split()\n",
    "    condition = line.split('if')[1].strip()\n",
    "    condition_parts = condition.split()\n",
    "    condition_reg = condition_parts[0]\n",
    "    condition_reg_val = registers[condition_reg]\n",
    "    condition_val = int(condition_parts[2])\n",
    "    condition_operator = condition_parts[1]\n",
    "    condition_check = eval('condition_reg_val '+condition_operator+ 'condition_val')\n",
    "    if condition_check:\n",
    "        instruction_reg = instruction[0]\n",
    "        instruction_op = instruction[1]\n",
    "        instruction_val = int(instruction[2])\n",
    "        instruction_reg_val = registers[instruction_reg]\n",
    "        if instruction_op == 'inc':\n",
    "            registers[instruction_reg] += instruction_val\n",
    "        else:\n",
    "            registers[instruction_reg] -= instruction_val\n",
    "            \n",
    "    if registers[instruction_reg] > highestval:\n",
    "        highestval = registers[instruction_reg]\n",
    "            \n",
    "print(max(registers.values()))\n",
    "print(highestval)"
   ]
  }
 ],
 "metadata": {
  "kernelspec": {
   "display_name": "Python 3",
   "language": "python",
   "name": "python3"
  },
  "language_info": {
   "codemirror_mode": {
    "name": "ipython",
    "version": 3
   },
   "file_extension": ".py",
   "mimetype": "text/x-python",
   "name": "python",
   "nbconvert_exporter": "python",
   "pygments_lexer": "ipython3",
   "version": "3.6.3"
  }
 },
 "nbformat": 4,
 "nbformat_minor": 2
}
