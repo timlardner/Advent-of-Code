{
 "cells": [
  {
   "cell_type": "code",
   "execution_count": 43,
   "metadata": {},
   "outputs": [],
   "source": [
    "import requests\n",
    "from functools import reduce\n",
    "class Day6:\n",
    "    def __init__(self):\n",
    "        banks = requests.get('https://aoc.intae.it/6').text\n",
    "        self.banks = list(map(lambda x: int(x), banks.split('\\t')))\n",
    "        self.seenConfiguratons = []\n",
    "        self.add_to_log()\n",
    "        self.iterations = 0\n",
    "        while not self.shift():\n",
    "            pass\n",
    "        print('Iterations in loop: {}'.format(self.get_loop_size()))\n",
    "        \n",
    "    def shift(self):\n",
    "        self.perform_dedistribution()\n",
    "        self.iterations += 1\n",
    "        if self.check_if_in_log():\n",
    "            print('Iterations until loop: {}'.format(self.iterations))\n",
    "            self.add_to_log()\n",
    "            return True\n",
    "        else:\n",
    "            self.add_to_log()\n",
    "            return False\n",
    "        \n",
    "    def get_loop_size(self):\n",
    "        return len(self.seenConfiguratons)-self.seenConfiguratons.index(self.seenConfiguratons[-1]) - 1\n",
    "        \n",
    "    def check_if_in_log(self):\n",
    "        return self.get_string() in self.seenConfiguratons\n",
    "        \n",
    "    def get_string(self):\n",
    "        return reduce(lambda x, y: x+','+y, map(lambda x: str(x), self.banks))\n",
    "        \n",
    "    def get_biggest(self):\n",
    "        return self.banks.index(max(self.banks))\n",
    "    \n",
    "    def add_to_log(self):\n",
    "        self.seenConfiguratons.append(self.get_string())\n",
    "        \n",
    "    def perform_dedistribution(self):\n",
    "        current_idx = self.get_biggest()\n",
    "        to_redistribute = self.banks[current_idx]\n",
    "        self.banks[current_idx] = 0\n",
    "        while to_redistribute > 0:\n",
    "            current_idx += 1\n",
    "            current_idx = current_idx % len(self.banks) # Wraparound \n",
    "            self.banks[current_idx] += 1\n",
    "            to_redistribute -= 1            "
   ]
  },
  {
   "cell_type": "code",
   "execution_count": 44,
   "metadata": {},
   "outputs": [
    {
     "name": "stdout",
     "output_type": "stream",
     "text": [
      "Iterations until loop: 12841\n",
      "Iterations in loop: 8038\n"
     ]
    }
   ],
   "source": [
    "day6 = Day6()"
   ]
  }
 ],
 "metadata": {
  "kernelspec": {
   "display_name": "Python 3",
   "language": "python",
   "name": "python3"
  },
  "language_info": {
   "codemirror_mode": {
    "name": "ipython",
    "version": 3
   },
   "file_extension": ".py",
   "mimetype": "text/x-python",
   "name": "python",
   "nbconvert_exporter": "python",
   "pygments_lexer": "ipython3",
   "version": "3.6.3"
  }
 },
 "nbformat": 4,
 "nbformat_minor": 2
}
