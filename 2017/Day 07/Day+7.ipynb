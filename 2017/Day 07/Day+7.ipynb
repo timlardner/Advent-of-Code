{
 "cells": [
  {
   "cell_type": "code",
   "execution_count": 33,
   "metadata": {},
   "outputs": [
    {
     "name": "stdout",
     "output_type": "stream",
     "text": [
      "Here: vwkkml\n",
      "[2090, 2090, 2090, 2090, 2096]\n",
      "['hvpess', 'nuozixg', 'tshyvej', 'yfxbu', 'kiatxq']\n",
      "Here: vgzejbd\n",
      "[159240, 159246, 159240, 159240, 159240, 159240]\n",
      "['vuoqao', 'vwkkml', 'kmpfxl', 'snuewn', 'jjgjvki', 'fiprusz']\n",
      "1232\n"
     ]
    }
   ],
   "source": [
    "import requests\n",
    "from functools import reduce\n",
    "class TowerHandler:\n",
    "    def __init__(self):\n",
    "        lines = requests.get('https://aoc.intae.it/7').text\n",
    "        towers = {}\n",
    "        for line in lines.split('\\n'):\n",
    "            parts = line.split('->') \n",
    "            name = parts[0].split(' ')[0]\n",
    "            weight = int(parts[0].split(' ')[1].replace(')','').replace('(',''))\n",
    "            joins = []\n",
    "            if len(parts) > 1:\n",
    "                join = parts[1].split(',')\n",
    "                for jo in join:\n",
    "                    joins.append(jo.strip())\n",
    "                    \n",
    "            towers[name] = Tower(name, weight, joins)\n",
    " \n",
    "        for tower in towers.values():\n",
    "            tower.link_towers(towers)\n",
    "            \n",
    "        self.towers = towers\n",
    "            \n",
    "class Tower():\n",
    "    def __init__(self, name, weight, joins):\n",
    "        self.name = name\n",
    "        self.weight = weight\n",
    "        self.towers_above = {}\n",
    "        self.n_towers_above = 0\n",
    "        self.weights_above = {} # Dict of name and weight\n",
    "        self.joins = joins\n",
    "        \n",
    "    def link_towers(self, list_of_towers):\n",
    "        for join in self.joins:\n",
    "            list_of_towers[join].towers_above[self.name] = self\n",
    "    \n",
    "    def do_joins(self, list_of_towers):\n",
    "        for join in self.joins:\n",
    "            list_of_towers[join].add_join(self.name, self.weight + self.get_all_weights_above())\n",
    "    \n",
    "    def get_all_weights_above(self):\n",
    "        return sum(self.weights_above.values())\n",
    "    \n",
    "    def add_join(name, weight):\n",
    "        self.weights_above[name] = weight\n",
    "        \n",
    "    def print_above_towers(self, list_of_towers):\n",
    "        print('Here: '+self.name)\n",
    "        if len(self.joins) > 0:\n",
    "            print('Next: '+ ', '.join(self.joins))\n",
    "            for join in self.joins:\n",
    "                list_of_towers[join].print_above_towers(list_of_towers)\n",
    "                \n",
    "    def get_weight_above_towers(self, list_of_towers):\n",
    "        total_weight = self.weight\n",
    "        weights_above = []\n",
    "        if len(self.joins) > 0:\n",
    "            for join in self.joins:\n",
    "                weights_above.append(list_of_towers[join].get_weight_above_towers(list_of_towers))\n",
    "                total_weight += weights_above[-1]\n",
    "        if not self.check_weights_above(weights_above):\n",
    "            print('Here: '+self.name)\n",
    "            print(weights_above)\n",
    "            print(self.joins)\n",
    "        return total_weight\n",
    "        \n",
    "    def check_weights_above(self, weights):\n",
    "        if len(weights) < 2:\n",
    "            return True\n",
    "        weight = weights[0]\n",
    "        for item in weights:\n",
    "            if item != weight:\n",
    "                return False\n",
    "        return True\n",
    "    \n",
    "t = TowerHandler()\n",
    "t.towers['vgzejbd'].get_weight_above_towers(t.towers)\n",
    "print(t.towers['kiatxq'].weight)"
   ]
  },
  {
   "cell_type": "code",
   "execution_count": 44,
   "metadata": {},
   "outputs": [
    {
     "name": "stdout",
     "output_type": "stream",
     "text": [
      "Iterations until loop: 12841\n",
      "Iterations in loop: 8038\n"
     ]
    }
   ],
   "source": [
    "day6 = Day6()"
   ]
  },
  {
   "cell_type": "code",
   "execution_count": 15,
   "metadata": {},
   "outputs": [
    {
     "name": "stdout",
     "output_type": "stream",
     "text": [
      "vgzejbd\n"
     ]
    }
   ],
   "source": [
    "import requests\n"
   ]
  }
 ],
 "metadata": {
  "kernelspec": {
   "display_name": "Python 3",
   "language": "python",
   "name": "python3"
  },
  "language_info": {
   "codemirror_mode": {
    "name": "ipython",
    "version": 3
   },
   "file_extension": ".py",
   "mimetype": "text/x-python",
   "name": "python",
   "nbconvert_exporter": "python",
   "pygments_lexer": "ipython3",
   "version": "3.6.3"
  }
 },
 "nbformat": 4,
 "nbformat_minor": 2
}
