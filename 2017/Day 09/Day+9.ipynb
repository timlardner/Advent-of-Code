{
 "cells": [
  {
   "cell_type": "code",
   "execution_count": 21,
   "metadata": {},
   "outputs": [
    {
     "name": "stdout",
     "output_type": "stream",
     "text": [
      "16021\n",
      "7685\n"
     ]
    }
   ],
   "source": [
    "import requests\n",
    "puzzle_string = requests.get('https://aoc.intae.it/9').text\n",
    "string_pointer = 0\n",
    "is_garbage = False\n",
    "is_ignore = False\n",
    "group_stack = 0\n",
    "group_score = 0\n",
    "garbage_count = 0\n",
    "\n",
    "for string_pointer in range(len(puzzle_string)):\n",
    "    char = puzzle_string[string_pointer]\n",
    "    if is_ignore:\n",
    "        is_ignore = False\n",
    "        continue\n",
    "    if char == '!':\n",
    "        is_ignore = True\n",
    "        continue\n",
    "    if char == '>':\n",
    "        is_garbage = False\n",
    "        continue\n",
    "    if is_garbage:\n",
    "        garbage_count += 1\n",
    "    if char == '<':\n",
    "        is_garbage = True\n",
    "        continue\n",
    "    if is_garbage:\n",
    "        continue\n",
    "    if char == '{':\n",
    "        group_stack += 1\n",
    "    if char == '}':\n",
    "        group_scores += group_stack\n",
    "        group_stack -= 1\n",
    "\n",
    "print(sum(group_scores))\n",
    "print(garbage_count)"
   ]
  }
 ],
 "metadata": {
  "kernelspec": {
   "display_name": "Python 3",
   "language": "python",
   "name": "python3"
  },
  "language_info": {
   "codemirror_mode": {
    "name": "ipython",
    "version": 3
   },
   "file_extension": ".py",
   "mimetype": "text/x-python",
   "name": "python",
   "nbconvert_exporter": "python",
   "pygments_lexer": "ipython3",
   "version": "3.6.3"
  }
 },
 "nbformat": 4,
 "nbformat_minor": 2
}
