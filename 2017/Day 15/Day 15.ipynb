{
 "cells": [
  {
   "cell_type": "code",
   "execution_count": 38,
   "metadata": {},
   "outputs": [
    {
     "name": "stdout",
     "output_type": "stream",
     "text": [
      "298\n"
     ]
    }
   ],
   "source": [
    "import requests\n",
    "\n",
    "a_factor = 16807\n",
    "b_factor = 48271\n",
    "remainder = 2147483647\n",
    "count = 0\n",
    "\n",
    "text = requests.get('https://aoc.intae.it/15').text\n",
    "inputs = [int(line.split()[-1])for line in text.split('\\n')]\n",
    "\n",
    "a_next = inputs[0]\n",
    "b_next = inputs[1]\n",
    "\n",
    "#a_next = 65\n",
    "#b_next = 8921\n",
    "\n",
    "def step(a, b):\n",
    "    while True:\n",
    "        a = (a * a_factor) % remainder\n",
    "        if a % 4 == 0:\n",
    "            break\n",
    "    while True:\n",
    "        b = (b * b_factor) % remainder\n",
    "        if b % 8 ==0:\n",
    "            break\n",
    "    return a, b\n",
    "    \n",
    "for _ in range(int(5e6)):\n",
    "#for _ in range(int(5)):\n",
    "    a_next, b_next = step(a_next, b_next)\n",
    "    #print(a_next)\n",
    "    #print(b_next)\n",
    "    if a_next & 65535 == b_next & 65535:\n",
    "        count+=1\n",
    "\n",
    "print(count)\n"
   ]
  }
 ],
 "metadata": {
  "kernelspec": {
   "display_name": "Python 3",
   "language": "python",
   "name": "python3"
  },
  "language_info": {
   "codemirror_mode": {
    "name": "ipython",
    "version": 3
   },
   "file_extension": ".py",
   "mimetype": "text/x-python",
   "name": "python",
   "nbconvert_exporter": "python",
   "pygments_lexer": "ipython3",
   "version": "3.6.1"
  }
 },
 "nbformat": 4,
 "nbformat_minor": 2
}
